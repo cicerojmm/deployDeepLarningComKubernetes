{
  "nbformat": 4,
  "nbformat_minor": 0,
  "metadata": {
    "colab": {
      "name": "Identificação de digitos escritos a mão com CNN - MNIST.ipynb",
      "provenance": [],
      "toc_visible": true
    },
    "kernelspec": {
      "name": "python3",
      "display_name": "Python 3"
    },
    "accelerator": "GPU"
  },
  "cells": [
    {
      "cell_type": "markdown",
      "metadata": {
        "id": "fxf25dARdtNl",
        "colab_type": "text"
      },
      "source": [
        "###Treinamento do Modelo"
      ]
    },
    {
      "cell_type": "code",
      "metadata": {
        "id": "2y9dnJ_ZwcOW",
        "colab_type": "code",
        "colab": {}
      },
      "source": [
        "# todos os imports das bibliotecas\n",
        "import os\n",
        "import tensorflow as tf\n",
        "from tensorflow import keras\n",
        "from tensorflow.keras.datasets import mnist\n",
        "from tensorflow.keras.models import Sequential\n",
        "from tensorflow.keras.layers import Dense, Dropout, Flatten\n",
        "from tensorflow.keras.layers import Conv2D, MaxPooling2D\n",
        "from tensorflow.keras import backend as K\n",
        "from tensorflow.keras.callbacks import *\n",
        "import matplotlib.pyplot as plt\n",
        "\n",
        "%matplotlib inline"
      ],
      "execution_count": 0,
      "outputs": []
    },
    {
      "cell_type": "code",
      "metadata": {
        "id": "4zIY_InLvMnk",
        "colab_type": "code",
        "outputId": "6b736fac-0e9b-4f6b-b6a2-79a1a517edf4",
        "colab": {
          "base_uri": "https://localhost:8080/",
          "height": 34
        }
      },
      "source": [
        "#versao do tensorflow\n",
        "tf.__version__"
      ],
      "execution_count": 14,
      "outputs": [
        {
          "output_type": "execute_result",
          "data": {
            "text/plain": [
              "'2.2.0-rc3'"
            ]
          },
          "metadata": {
            "tags": []
          },
          "execution_count": 14
        }
      ]
    },
    {
      "cell_type": "code",
      "metadata": {
        "id": "gbeLTUNcw3ue",
        "colab_type": "code",
        "colab": {}
      },
      "source": [
        "# alguns parametros par ao treinamento do modelo\n",
        "batch_size = 128\n",
        "num_classes = 10\n",
        "epochs = 100"
      ],
      "execution_count": 0,
      "outputs": []
    },
    {
      "cell_type": "code",
      "metadata": {
        "id": "nQxjjHr0xOq4",
        "colab_type": "code",
        "colab": {}
      },
      "source": [
        "#definicao do tamanho da imagem que sera aceita\n",
        "img_rows, img_cols = 28, 28"
      ],
      "execution_count": 0,
      "outputs": []
    },
    {
      "cell_type": "code",
      "metadata": {
        "id": "_TMt92Y4xP3A",
        "colab_type": "code",
        "colab": {}
      },
      "source": [
        "#carregando o dataset mnist\n",
        "(x_train, y_train), (x_test, y_test) = mnist.load_data()"
      ],
      "execution_count": 0,
      "outputs": []
    },
    {
      "cell_type": "code",
      "metadata": {
        "id": "72wGc1PWxROn",
        "colab_type": "code",
        "colab": {}
      },
      "source": [
        "#tratamento das imagens e adequacao para alimentar o modelo\n",
        "if K.image_data_format() == 'channels_first':\n",
        "    x_train = x_train.reshape(x_train.shape[0], 1, img_rows, img_cols)\n",
        "    x_test = x_test.reshape(x_test.shape[0], 1, img_rows, img_cols)\n",
        "    input_shape = (1, img_rows, img_cols)\n",
        "else:\n",
        "    x_train = x_train.reshape(x_train.shape[0], img_rows, img_cols, 1)\n",
        "    x_test = x_test.reshape(x_test.shape[0], img_rows, img_cols, 1)\n",
        "    input_shape = (img_rows, img_cols, 1)"
      ],
      "execution_count": 0,
      "outputs": []
    },
    {
      "cell_type": "code",
      "metadata": {
        "id": "fQbTEHPaxYqv",
        "colab_type": "code",
        "outputId": "31ac18b1-6a64-48db-acd1-954fc901396a",
        "colab": {
          "base_uri": "https://localhost:8080/",
          "height": 69
        }
      },
      "source": [
        "#binariazacao dos datasets de treino e teste\n",
        "x_train = x_train.astype('float32')\n",
        "x_test = x_test.astype('float32')\n",
        "x_train /= 255\n",
        "x_test /= 255\n",
        "print('x_train shape:', x_train.shape)\n",
        "print(x_train.shape[0], 'amostras de treino')\n",
        "print(x_test.shape[0], 'amostras de teste')"
      ],
      "execution_count": 20,
      "outputs": [
        {
          "output_type": "stream",
          "text": [
            "x_train shape: (60000, 28, 28, 1)\n",
            "60000 amostras de treino\n",
            "10000 amostras de teste\n"
          ],
          "name": "stdout"
        }
      ]
    },
    {
      "cell_type": "code",
      "metadata": {
        "id": "y93QC3TBxaf_",
        "colab_type": "code",
        "colab": {}
      },
      "source": [
        "#conversao das labels para passar para a rede neural\n",
        "y_train = keras.utils.to_categorical(y_train, num_classes)\n",
        "y_test = keras.utils.to_categorical(y_test, num_classes)"
      ],
      "execution_count": 0,
      "outputs": []
    },
    {
      "cell_type": "code",
      "metadata": {
        "id": "N1lvIo7jxcLy",
        "colab_type": "code",
        "colab": {}
      },
      "source": [
        "#definicao do modelo a ser utilizado: CNN\n",
        "model = Sequential()\n",
        "model.add(Conv2D(name=\"convolution2d_1\", filters=32, kernel_size=(3, 3), activation='relu', input_shape=input_shape))\n",
        "model.add(Conv2D(name=\"convolution2d_2\", filters=64, kernel_size=(3, 3), activation='relu'))\n",
        "model.add(MaxPooling2D(name=\"maxpooling2d_1\", pool_size=[2, 2]))\n",
        "model.add(Dropout(name=\"dropout_1\", rate=0.25))\n",
        "model.add(Flatten())\n",
        "model.add(Dense(name=\"dense_1\", units=128, activation='relu'))\n",
        "model.add(Dropout(name=\"dropout_2\", rate=0.5))\n",
        "model.add(Dense(name=\"dense_2\", units=num_classes, activation='softmax'))"
      ],
      "execution_count": 0,
      "outputs": []
    },
    {
      "cell_type": "code",
      "metadata": {
        "id": "K6atFm0rxdt_",
        "colab_type": "code",
        "outputId": "d6571294-cacc-4adf-e0fc-374d35f934cc",
        "colab": {
          "base_uri": "https://localhost:8080/",
          "height": 434
        }
      },
      "source": [
        "# compilaçãão e sumario do modelo\n",
        "model.compile(loss=keras.losses.categorical_crossentropy, \n",
        "              optimizer=keras.optimizers.Adadelta(), metrics=['accuracy'], \n",
        "              run_eagerly = True)\n",
        "model.summary()"
      ],
      "execution_count": 23,
      "outputs": [
        {
          "output_type": "stream",
          "text": [
            "Model: \"sequential_1\"\n",
            "_________________________________________________________________\n",
            "Layer (type)                 Output Shape              Param #   \n",
            "=================================================================\n",
            "convolution2d_1 (Conv2D)     (None, 26, 26, 32)        320       \n",
            "_________________________________________________________________\n",
            "convolution2d_2 (Conv2D)     (None, 24, 24, 64)        18496     \n",
            "_________________________________________________________________\n",
            "maxpooling2d_1 (MaxPooling2D (None, 12, 12, 64)        0         \n",
            "_________________________________________________________________\n",
            "dropout_1 (Dropout)          (None, 12, 12, 64)        0         \n",
            "_________________________________________________________________\n",
            "flatten_1 (Flatten)          (None, 9216)              0         \n",
            "_________________________________________________________________\n",
            "dense_1 (Dense)              (None, 128)               1179776   \n",
            "_________________________________________________________________\n",
            "dropout_2 (Dropout)          (None, 128)               0         \n",
            "_________________________________________________________________\n",
            "dense_2 (Dense)              (None, 10)                1290      \n",
            "=================================================================\n",
            "Total params: 1,199,882\n",
            "Trainable params: 1,199,882\n",
            "Non-trainable params: 0\n",
            "_________________________________________________________________\n"
          ],
          "name": "stdout"
        }
      ]
    },
    {
      "cell_type": "code",
      "metadata": {
        "id": "RSNFa7BVgeeB",
        "colab_type": "code",
        "colab": {}
      },
      "source": [
        "#definicao dos callbacks\n",
        "weights_filepath = \"weights.h5\"\n",
        "callbacks = [ModelCheckpoint(weights_filepath, monitor='val_loss', mode='min',\n",
        "                             verbose=1, save_best_only=True),\n",
        "             EarlyStopping(monitor='val_loss', mode='min', patience=30, verbose=1)]"
      ],
      "execution_count": 0,
      "outputs": []
    },
    {
      "cell_type": "code",
      "metadata": {
        "id": "24tX_jWvxgL_",
        "colab_type": "code",
        "outputId": "9f2a5db3-8420-4a7a-cd90-fc9edacec559",
        "colab": {
          "base_uri": "https://localhost:8080/",
          "height": 1000
        }
      },
      "source": [
        "#treinamento do modelo\n",
        "hist = model.fit(x_train, y_train, batch_size=batch_size, epochs=epochs, \n",
        "          verbose=1, validation_data=(x_test, y_test), \n",
        "          callbacks=callbacks)\n",
        "model.load_weights(weights_filepath)"
      ],
      "execution_count": 26,
      "outputs": [
        {
          "output_type": "stream",
          "text": [
            "Epoch 1/100\n",
            "469/469 [==============================] - ETA: 0s - loss: 1.8522 - accuracy: 0.5087\n",
            "Epoch 00001: val_loss improved from 1.89475 to 1.69499, saving model to weights.h5\n",
            "469/469 [==============================] - 15s 32ms/step - loss: 1.8522 - accuracy: 0.5087 - val_loss: 1.6950 - val_accuracy: 0.6929\n",
            "Epoch 2/100\n",
            "469/469 [==============================] - ETA: 0s - loss: 1.6886 - accuracy: 0.5612\n",
            "Epoch 00002: val_loss improved from 1.69499 to 1.49175, saving model to weights.h5\n",
            "469/469 [==============================] - 15s 32ms/step - loss: 1.6886 - accuracy: 0.5612 - val_loss: 1.4917 - val_accuracy: 0.7278\n",
            "Epoch 3/100\n",
            "469/469 [==============================] - ETA: 0s - loss: 1.5143 - accuracy: 0.5993\n",
            "Epoch 00003: val_loss improved from 1.49175 to 1.29299, saving model to weights.h5\n",
            "469/469 [==============================] - 15s 32ms/step - loss: 1.5143 - accuracy: 0.5993 - val_loss: 1.2930 - val_accuracy: 0.7565\n",
            "Epoch 4/100\n",
            "469/469 [==============================] - ETA: 0s - loss: 1.3605 - accuracy: 0.6324\n",
            "Epoch 00004: val_loss improved from 1.29299 to 1.12078, saving model to weights.h5\n",
            "469/469 [==============================] - 15s 32ms/step - loss: 1.3605 - accuracy: 0.6324 - val_loss: 1.1208 - val_accuracy: 0.7776\n",
            "Epoch 5/100\n",
            "469/469 [==============================] - ETA: 0s - loss: 1.2311 - accuracy: 0.6555\n",
            "Epoch 00005: val_loss improved from 1.12078 to 0.98185, saving model to weights.h5\n",
            "469/469 [==============================] - 15s 32ms/step - loss: 1.2311 - accuracy: 0.6555 - val_loss: 0.9819 - val_accuracy: 0.7947\n",
            "Epoch 6/100\n",
            "469/469 [==============================] - ETA: 0s - loss: 1.1292 - accuracy: 0.6769\n",
            "Epoch 00006: val_loss improved from 0.98185 to 0.87259, saving model to weights.h5\n",
            "469/469 [==============================] - 15s 32ms/step - loss: 1.1292 - accuracy: 0.6769 - val_loss: 0.8726 - val_accuracy: 0.8120\n",
            "Epoch 7/100\n",
            "469/469 [==============================] - ETA: 0s - loss: 1.0386 - accuracy: 0.6964\n",
            "Epoch 00007: val_loss improved from 0.87259 to 0.78623, saving model to weights.h5\n",
            "469/469 [==============================] - 15s 31ms/step - loss: 1.0386 - accuracy: 0.6964 - val_loss: 0.7862 - val_accuracy: 0.8222\n",
            "Epoch 8/100\n",
            "469/469 [==============================] - ETA: 0s - loss: 0.9723 - accuracy: 0.7117\n",
            "Epoch 00008: val_loss improved from 0.78623 to 0.71829, saving model to weights.h5\n",
            "469/469 [==============================] - 15s 31ms/step - loss: 0.9723 - accuracy: 0.7117 - val_loss: 0.7183 - val_accuracy: 0.8320\n",
            "Epoch 9/100\n",
            "469/469 [==============================] - ETA: 0s - loss: 0.9142 - accuracy: 0.7254\n",
            "Epoch 00009: val_loss improved from 0.71829 to 0.66306, saving model to weights.h5\n",
            "469/469 [==============================] - 15s 31ms/step - loss: 0.9142 - accuracy: 0.7254 - val_loss: 0.6631 - val_accuracy: 0.8396\n",
            "Epoch 10/100\n",
            "469/469 [==============================] - ETA: 0s - loss: 0.8661 - accuracy: 0.7390\n",
            "Epoch 00010: val_loss improved from 0.66306 to 0.61876, saving model to weights.h5\n",
            "469/469 [==============================] - 15s 31ms/step - loss: 0.8661 - accuracy: 0.7390 - val_loss: 0.6188 - val_accuracy: 0.8471\n",
            "Epoch 11/100\n",
            "469/469 [==============================] - ETA: 0s - loss: 0.8267 - accuracy: 0.7490\n",
            "Epoch 00011: val_loss improved from 0.61876 to 0.58237, saving model to weights.h5\n",
            "469/469 [==============================] - 15s 31ms/step - loss: 0.8267 - accuracy: 0.7490 - val_loss: 0.5824 - val_accuracy: 0.8531\n",
            "Epoch 12/100\n",
            "469/469 [==============================] - ETA: 0s - loss: 0.7931 - accuracy: 0.7592\n",
            "Epoch 00012: val_loss improved from 0.58237 to 0.55182, saving model to weights.h5\n",
            "469/469 [==============================] - 15s 31ms/step - loss: 0.7931 - accuracy: 0.7592 - val_loss: 0.5518 - val_accuracy: 0.8607\n",
            "Epoch 13/100\n",
            "469/469 [==============================] - ETA: 0s - loss: 0.7653 - accuracy: 0.7667\n",
            "Epoch 00013: val_loss improved from 0.55182 to 0.52575, saving model to weights.h5\n",
            "469/469 [==============================] - 15s 31ms/step - loss: 0.7653 - accuracy: 0.7667 - val_loss: 0.5258 - val_accuracy: 0.8663\n",
            "Epoch 14/100\n",
            "469/469 [==============================] - ETA: 0s - loss: 0.7366 - accuracy: 0.7763\n",
            "Epoch 00014: val_loss improved from 0.52575 to 0.50367, saving model to weights.h5\n",
            "469/469 [==============================] - 15s 31ms/step - loss: 0.7366 - accuracy: 0.7763 - val_loss: 0.5037 - val_accuracy: 0.8697\n",
            "Epoch 15/100\n",
            "469/469 [==============================] - ETA: 0s - loss: 0.7154 - accuracy: 0.7798\n",
            "Epoch 00015: val_loss improved from 0.50367 to 0.48506, saving model to weights.h5\n",
            "469/469 [==============================] - 15s 31ms/step - loss: 0.7154 - accuracy: 0.7798 - val_loss: 0.4851 - val_accuracy: 0.8722\n",
            "Epoch 16/100\n",
            "469/469 [==============================] - ETA: 0s - loss: 0.6942 - accuracy: 0.7870\n",
            "Epoch 00016: val_loss improved from 0.48506 to 0.46775, saving model to weights.h5\n",
            "469/469 [==============================] - 15s 31ms/step - loss: 0.6942 - accuracy: 0.7870 - val_loss: 0.4677 - val_accuracy: 0.8767\n",
            "Epoch 17/100\n",
            "469/469 [==============================] - ETA: 0s - loss: 0.6719 - accuracy: 0.7947\n",
            "Epoch 00017: val_loss improved from 0.46775 to 0.45201, saving model to weights.h5\n",
            "469/469 [==============================] - 15s 32ms/step - loss: 0.6719 - accuracy: 0.7947 - val_loss: 0.4520 - val_accuracy: 0.8817\n",
            "Epoch 18/100\n",
            "469/469 [==============================] - ETA: 0s - loss: 0.6543 - accuracy: 0.8005\n",
            "Epoch 00018: val_loss improved from 0.45201 to 0.43822, saving model to weights.h5\n",
            "469/469 [==============================] - 15s 31ms/step - loss: 0.6543 - accuracy: 0.8005 - val_loss: 0.4382 - val_accuracy: 0.8834\n",
            "Epoch 19/100\n",
            "469/469 [==============================] - ETA: 0s - loss: 0.6397 - accuracy: 0.8053\n",
            "Epoch 00019: val_loss improved from 0.43822 to 0.42665, saving model to weights.h5\n",
            "469/469 [==============================] - 15s 31ms/step - loss: 0.6397 - accuracy: 0.8053 - val_loss: 0.4266 - val_accuracy: 0.8849\n",
            "Epoch 20/100\n",
            "469/469 [==============================] - ETA: 0s - loss: 0.6314 - accuracy: 0.8056\n",
            "Epoch 00020: val_loss improved from 0.42665 to 0.41592, saving model to weights.h5\n",
            "469/469 [==============================] - 15s 31ms/step - loss: 0.6314 - accuracy: 0.8056 - val_loss: 0.4159 - val_accuracy: 0.8885\n",
            "Epoch 21/100\n",
            "469/469 [==============================] - ETA: 0s - loss: 0.6153 - accuracy: 0.8105\n",
            "Epoch 00021: val_loss improved from 0.41592 to 0.40569, saving model to weights.h5\n",
            "469/469 [==============================] - 15s 31ms/step - loss: 0.6153 - accuracy: 0.8105 - val_loss: 0.4057 - val_accuracy: 0.8923\n",
            "Epoch 22/100\n",
            "469/469 [==============================] - ETA: 0s - loss: 0.6027 - accuracy: 0.8151\n",
            "Epoch 00022: val_loss improved from 0.40569 to 0.39660, saving model to weights.h5\n",
            "469/469 [==============================] - 15s 31ms/step - loss: 0.6027 - accuracy: 0.8151 - val_loss: 0.3966 - val_accuracy: 0.8936\n",
            "Epoch 23/100\n",
            "469/469 [==============================] - ETA: 0s - loss: 0.5944 - accuracy: 0.8168\n",
            "Epoch 00023: val_loss improved from 0.39660 to 0.38875, saving model to weights.h5\n",
            "469/469 [==============================] - 15s 31ms/step - loss: 0.5944 - accuracy: 0.8168 - val_loss: 0.3887 - val_accuracy: 0.8955\n",
            "Epoch 24/100\n",
            "469/469 [==============================] - ETA: 0s - loss: 0.5811 - accuracy: 0.8222\n",
            "Epoch 00024: val_loss improved from 0.38875 to 0.38135, saving model to weights.h5\n",
            "469/469 [==============================] - 15s 31ms/step - loss: 0.5811 - accuracy: 0.8222 - val_loss: 0.3813 - val_accuracy: 0.8966\n",
            "Epoch 25/100\n",
            "469/469 [==============================] - ETA: 0s - loss: 0.5723 - accuracy: 0.8265\n",
            "Epoch 00025: val_loss improved from 0.38135 to 0.37375, saving model to weights.h5\n",
            "469/469 [==============================] - 15s 31ms/step - loss: 0.5723 - accuracy: 0.8265 - val_loss: 0.3737 - val_accuracy: 0.8979\n",
            "Epoch 26/100\n",
            "469/469 [==============================] - ETA: 0s - loss: 0.5630 - accuracy: 0.8268\n",
            "Epoch 00026: val_loss improved from 0.37375 to 0.36718, saving model to weights.h5\n",
            "469/469 [==============================] - 15s 31ms/step - loss: 0.5630 - accuracy: 0.8268 - val_loss: 0.3672 - val_accuracy: 0.8995\n",
            "Epoch 27/100\n",
            "469/469 [==============================] - ETA: 0s - loss: 0.5585 - accuracy: 0.8295\n",
            "Epoch 00027: val_loss improved from 0.36718 to 0.36076, saving model to weights.h5\n",
            "469/469 [==============================] - 15s 31ms/step - loss: 0.5585 - accuracy: 0.8295 - val_loss: 0.3608 - val_accuracy: 0.9021\n",
            "Epoch 28/100\n",
            "469/469 [==============================] - ETA: 0s - loss: 0.5476 - accuracy: 0.8317\n",
            "Epoch 00028: val_loss improved from 0.36076 to 0.35485, saving model to weights.h5\n",
            "469/469 [==============================] - 15s 31ms/step - loss: 0.5476 - accuracy: 0.8317 - val_loss: 0.3548 - val_accuracy: 0.9031\n",
            "Epoch 29/100\n",
            "469/469 [==============================] - ETA: 0s - loss: 0.5380 - accuracy: 0.8362\n",
            "Epoch 00029: val_loss improved from 0.35485 to 0.34931, saving model to weights.h5\n",
            "469/469 [==============================] - 15s 31ms/step - loss: 0.5380 - accuracy: 0.8362 - val_loss: 0.3493 - val_accuracy: 0.9040\n",
            "Epoch 30/100\n",
            "469/469 [==============================] - ETA: 0s - loss: 0.5298 - accuracy: 0.8388\n",
            "Epoch 00030: val_loss improved from 0.34931 to 0.34365, saving model to weights.h5\n",
            "469/469 [==============================] - 15s 31ms/step - loss: 0.5298 - accuracy: 0.8388 - val_loss: 0.3436 - val_accuracy: 0.9065\n",
            "Epoch 31/100\n",
            "469/469 [==============================] - ETA: 0s - loss: 0.5205 - accuracy: 0.8402\n",
            "Epoch 00031: val_loss improved from 0.34365 to 0.33847, saving model to weights.h5\n",
            "469/469 [==============================] - 15s 31ms/step - loss: 0.5205 - accuracy: 0.8402 - val_loss: 0.3385 - val_accuracy: 0.9082\n",
            "Epoch 32/100\n",
            "469/469 [==============================] - ETA: 0s - loss: 0.5207 - accuracy: 0.8408\n",
            "Epoch 00032: val_loss improved from 0.33847 to 0.33404, saving model to weights.h5\n",
            "469/469 [==============================] - 15s 31ms/step - loss: 0.5207 - accuracy: 0.8408 - val_loss: 0.3340 - val_accuracy: 0.9089\n",
            "Epoch 33/100\n",
            "469/469 [==============================] - ETA: 0s - loss: 0.5133 - accuracy: 0.8443\n",
            "Epoch 00033: val_loss improved from 0.33404 to 0.32928, saving model to weights.h5\n",
            "469/469 [==============================] - 15s 31ms/step - loss: 0.5133 - accuracy: 0.8443 - val_loss: 0.3293 - val_accuracy: 0.9105\n",
            "Epoch 34/100\n",
            "469/469 [==============================] - ETA: 0s - loss: 0.5042 - accuracy: 0.8482\n",
            "Epoch 00034: val_loss improved from 0.32928 to 0.32481, saving model to weights.h5\n",
            "469/469 [==============================] - 15s 31ms/step - loss: 0.5042 - accuracy: 0.8482 - val_loss: 0.3248 - val_accuracy: 0.9107\n",
            "Epoch 35/100\n",
            "469/469 [==============================] - ETA: 0s - loss: 0.4990 - accuracy: 0.8484\n",
            "Epoch 00035: val_loss improved from 0.32481 to 0.32027, saving model to weights.h5\n",
            "469/469 [==============================] - 15s 31ms/step - loss: 0.4990 - accuracy: 0.8484 - val_loss: 0.3203 - val_accuracy: 0.9124\n",
            "Epoch 36/100\n",
            "469/469 [==============================] - ETA: 0s - loss: 0.4942 - accuracy: 0.8502\n",
            "Epoch 00036: val_loss improved from 0.32027 to 0.31592, saving model to weights.h5\n",
            "469/469 [==============================] - 15s 31ms/step - loss: 0.4942 - accuracy: 0.8502 - val_loss: 0.3159 - val_accuracy: 0.9129\n",
            "Epoch 37/100\n",
            "469/469 [==============================] - ETA: 0s - loss: 0.4897 - accuracy: 0.8508\n",
            "Epoch 00037: val_loss improved from 0.31592 to 0.31246, saving model to weights.h5\n",
            "469/469 [==============================] - 15s 31ms/step - loss: 0.4897 - accuracy: 0.8508 - val_loss: 0.3125 - val_accuracy: 0.9142\n",
            "Epoch 38/100\n",
            "469/469 [==============================] - ETA: 0s - loss: 0.4837 - accuracy: 0.8536\n",
            "Epoch 00038: val_loss improved from 0.31246 to 0.30846, saving model to weights.h5\n",
            "469/469 [==============================] - 15s 32ms/step - loss: 0.4837 - accuracy: 0.8536 - val_loss: 0.3085 - val_accuracy: 0.9155\n",
            "Epoch 39/100\n",
            "469/469 [==============================] - ETA: 0s - loss: 0.4794 - accuracy: 0.8549\n",
            "Epoch 00039: val_loss improved from 0.30846 to 0.30509, saving model to weights.h5\n",
            "469/469 [==============================] - 15s 31ms/step - loss: 0.4794 - accuracy: 0.8549 - val_loss: 0.3051 - val_accuracy: 0.9156\n",
            "Epoch 40/100\n",
            "469/469 [==============================] - ETA: 0s - loss: 0.4753 - accuracy: 0.8549\n",
            "Epoch 00040: val_loss improved from 0.30509 to 0.30176, saving model to weights.h5\n",
            "469/469 [==============================] - 15s 31ms/step - loss: 0.4753 - accuracy: 0.8549 - val_loss: 0.3018 - val_accuracy: 0.9171\n",
            "Epoch 41/100\n",
            "469/469 [==============================] - ETA: 0s - loss: 0.4694 - accuracy: 0.8573\n",
            "Epoch 00041: val_loss improved from 0.30176 to 0.29809, saving model to weights.h5\n",
            "469/469 [==============================] - 15s 31ms/step - loss: 0.4694 - accuracy: 0.8573 - val_loss: 0.2981 - val_accuracy: 0.9171\n",
            "Epoch 42/100\n",
            "469/469 [==============================] - ETA: 0s - loss: 0.4657 - accuracy: 0.8586\n",
            "Epoch 00042: val_loss improved from 0.29809 to 0.29538, saving model to weights.h5\n",
            "469/469 [==============================] - 15s 31ms/step - loss: 0.4657 - accuracy: 0.8586 - val_loss: 0.2954 - val_accuracy: 0.9175\n",
            "Epoch 43/100\n",
            "469/469 [==============================] - ETA: 0s - loss: 0.4602 - accuracy: 0.8610\n",
            "Epoch 00043: val_loss improved from 0.29538 to 0.29217, saving model to weights.h5\n",
            "469/469 [==============================] - 14s 31ms/step - loss: 0.4602 - accuracy: 0.8610 - val_loss: 0.2922 - val_accuracy: 0.9187\n",
            "Epoch 44/100\n",
            "469/469 [==============================] - ETA: 0s - loss: 0.4559 - accuracy: 0.8618\n",
            "Epoch 00044: val_loss improved from 0.29217 to 0.28870, saving model to weights.h5\n",
            "469/469 [==============================] - 14s 30ms/step - loss: 0.4559 - accuracy: 0.8618 - val_loss: 0.2887 - val_accuracy: 0.9198\n",
            "Epoch 45/100\n",
            "469/469 [==============================] - ETA: 0s - loss: 0.4517 - accuracy: 0.8647\n",
            "Epoch 00045: val_loss improved from 0.28870 to 0.28635, saving model to weights.h5\n",
            "469/469 [==============================] - 14s 30ms/step - loss: 0.4517 - accuracy: 0.8647 - val_loss: 0.2863 - val_accuracy: 0.9207\n",
            "Epoch 46/100\n",
            "469/469 [==============================] - ETA: 0s - loss: 0.4453 - accuracy: 0.8656\n",
            "Epoch 00046: val_loss improved from 0.28635 to 0.28353, saving model to weights.h5\n",
            "469/469 [==============================] - 14s 30ms/step - loss: 0.4453 - accuracy: 0.8656 - val_loss: 0.2835 - val_accuracy: 0.9207\n",
            "Epoch 47/100\n",
            "469/469 [==============================] - ETA: 0s - loss: 0.4464 - accuracy: 0.8651\n",
            "Epoch 00047: val_loss improved from 0.28353 to 0.28069, saving model to weights.h5\n",
            "469/469 [==============================] - 14s 30ms/step - loss: 0.4464 - accuracy: 0.8651 - val_loss: 0.2807 - val_accuracy: 0.9214\n",
            "Epoch 48/100\n",
            "469/469 [==============================] - ETA: 0s - loss: 0.4384 - accuracy: 0.8672\n",
            "Epoch 00048: val_loss improved from 0.28069 to 0.27760, saving model to weights.h5\n",
            "469/469 [==============================] - 14s 30ms/step - loss: 0.4384 - accuracy: 0.8672 - val_loss: 0.2776 - val_accuracy: 0.9227\n",
            "Epoch 49/100\n",
            "469/469 [==============================] - ETA: 0s - loss: 0.4383 - accuracy: 0.8683\n",
            "Epoch 00049: val_loss improved from 0.27760 to 0.27519, saving model to weights.h5\n",
            "469/469 [==============================] - 14s 30ms/step - loss: 0.4383 - accuracy: 0.8683 - val_loss: 0.2752 - val_accuracy: 0.9227\n",
            "Epoch 50/100\n",
            "469/469 [==============================] - ETA: 0s - loss: 0.4321 - accuracy: 0.8714\n",
            "Epoch 00050: val_loss improved from 0.27519 to 0.27223, saving model to weights.h5\n",
            "469/469 [==============================] - 14s 30ms/step - loss: 0.4321 - accuracy: 0.8714 - val_loss: 0.2722 - val_accuracy: 0.9233\n",
            "Epoch 51/100\n",
            "469/469 [==============================] - ETA: 0s - loss: 0.4291 - accuracy: 0.8720\n",
            "Epoch 00051: val_loss improved from 0.27223 to 0.26996, saving model to weights.h5\n",
            "469/469 [==============================] - 14s 30ms/step - loss: 0.4291 - accuracy: 0.8720 - val_loss: 0.2700 - val_accuracy: 0.9243\n",
            "Epoch 52/100\n",
            "469/469 [==============================] - ETA: 0s - loss: 0.4293 - accuracy: 0.8706\n",
            "Epoch 00052: val_loss improved from 0.26996 to 0.26837, saving model to weights.h5\n",
            "469/469 [==============================] - 14s 30ms/step - loss: 0.4293 - accuracy: 0.8706 - val_loss: 0.2684 - val_accuracy: 0.9241\n",
            "Epoch 53/100\n",
            "469/469 [==============================] - ETA: 0s - loss: 0.4265 - accuracy: 0.8743\n",
            "Epoch 00053: val_loss improved from 0.26837 to 0.26595, saving model to weights.h5\n",
            "469/469 [==============================] - 14s 30ms/step - loss: 0.4265 - accuracy: 0.8743 - val_loss: 0.2659 - val_accuracy: 0.9251\n",
            "Epoch 54/100\n",
            "469/469 [==============================] - ETA: 0s - loss: 0.4213 - accuracy: 0.8735\n",
            "Epoch 00054: val_loss improved from 0.26595 to 0.26342, saving model to weights.h5\n",
            "469/469 [==============================] - 14s 30ms/step - loss: 0.4213 - accuracy: 0.8735 - val_loss: 0.2634 - val_accuracy: 0.9257\n",
            "Epoch 55/100\n",
            "469/469 [==============================] - ETA: 0s - loss: 0.4180 - accuracy: 0.8741\n",
            "Epoch 00055: val_loss improved from 0.26342 to 0.26133, saving model to weights.h5\n",
            "469/469 [==============================] - 14s 30ms/step - loss: 0.4180 - accuracy: 0.8741 - val_loss: 0.2613 - val_accuracy: 0.9259\n",
            "Epoch 56/100\n",
            "469/469 [==============================] - ETA: 0s - loss: 0.4135 - accuracy: 0.8749\n",
            "Epoch 00056: val_loss improved from 0.26133 to 0.25907, saving model to weights.h5\n",
            "469/469 [==============================] - 14s 30ms/step - loss: 0.4135 - accuracy: 0.8749 - val_loss: 0.2591 - val_accuracy: 0.9270\n",
            "Epoch 57/100\n",
            "469/469 [==============================] - ETA: 0s - loss: 0.4129 - accuracy: 0.8758\n",
            "Epoch 00057: val_loss improved from 0.25907 to 0.25715, saving model to weights.h5\n",
            "469/469 [==============================] - 14s 30ms/step - loss: 0.4129 - accuracy: 0.8758 - val_loss: 0.2571 - val_accuracy: 0.9272\n",
            "Epoch 58/100\n",
            "469/469 [==============================] - ETA: 0s - loss: 0.4071 - accuracy: 0.8786\n",
            "Epoch 00058: val_loss improved from 0.25715 to 0.25500, saving model to weights.h5\n",
            "469/469 [==============================] - 14s 30ms/step - loss: 0.4071 - accuracy: 0.8786 - val_loss: 0.2550 - val_accuracy: 0.9272\n",
            "Epoch 59/100\n",
            "469/469 [==============================] - ETA: 0s - loss: 0.4066 - accuracy: 0.8788\n",
            "Epoch 00059: val_loss improved from 0.25500 to 0.25302, saving model to weights.h5\n",
            "469/469 [==============================] - 14s 31ms/step - loss: 0.4066 - accuracy: 0.8788 - val_loss: 0.2530 - val_accuracy: 0.9273\n",
            "Epoch 60/100\n",
            "469/469 [==============================] - ETA: 0s - loss: 0.4052 - accuracy: 0.8784\n",
            "Epoch 00060: val_loss improved from 0.25302 to 0.25084, saving model to weights.h5\n",
            "469/469 [==============================] - 15s 31ms/step - loss: 0.4052 - accuracy: 0.8784 - val_loss: 0.2508 - val_accuracy: 0.9279\n",
            "Epoch 61/100\n",
            "469/469 [==============================] - ETA: 0s - loss: 0.4016 - accuracy: 0.8785\n",
            "Epoch 00061: val_loss improved from 0.25084 to 0.24898, saving model to weights.h5\n",
            "469/469 [==============================] - 14s 30ms/step - loss: 0.4016 - accuracy: 0.8785 - val_loss: 0.2490 - val_accuracy: 0.9283\n",
            "Epoch 62/100\n",
            "469/469 [==============================] - ETA: 0s - loss: 0.4007 - accuracy: 0.8799\n",
            "Epoch 00062: val_loss improved from 0.24898 to 0.24747, saving model to weights.h5\n",
            "469/469 [==============================] - 14s 30ms/step - loss: 0.4007 - accuracy: 0.8799 - val_loss: 0.2475 - val_accuracy: 0.9292\n",
            "Epoch 63/100\n",
            "469/469 [==============================] - ETA: 0s - loss: 0.3936 - accuracy: 0.8811\n",
            "Epoch 00063: val_loss improved from 0.24747 to 0.24540, saving model to weights.h5\n",
            "469/469 [==============================] - 14s 30ms/step - loss: 0.3936 - accuracy: 0.8811 - val_loss: 0.2454 - val_accuracy: 0.9286\n",
            "Epoch 64/100\n",
            "469/469 [==============================] - ETA: 0s - loss: 0.3965 - accuracy: 0.8802\n",
            "Epoch 00064: val_loss improved from 0.24540 to 0.24359, saving model to weights.h5\n",
            "469/469 [==============================] - 14s 30ms/step - loss: 0.3965 - accuracy: 0.8802 - val_loss: 0.2436 - val_accuracy: 0.9299\n",
            "Epoch 65/100\n",
            "469/469 [==============================] - ETA: 0s - loss: 0.3866 - accuracy: 0.8842\n",
            "Epoch 00065: val_loss improved from 0.24359 to 0.24169, saving model to weights.h5\n",
            "469/469 [==============================] - 14s 30ms/step - loss: 0.3866 - accuracy: 0.8842 - val_loss: 0.2417 - val_accuracy: 0.9304\n",
            "Epoch 66/100\n",
            "469/469 [==============================] - ETA: 0s - loss: 0.3863 - accuracy: 0.8841\n",
            "Epoch 00066: val_loss improved from 0.24169 to 0.24008, saving model to weights.h5\n",
            "469/469 [==============================] - 14s 30ms/step - loss: 0.3863 - accuracy: 0.8841 - val_loss: 0.2401 - val_accuracy: 0.9314\n",
            "Epoch 67/100\n",
            "469/469 [==============================] - ETA: 0s - loss: 0.3836 - accuracy: 0.8850\n",
            "Epoch 00067: val_loss improved from 0.24008 to 0.23820, saving model to weights.h5\n",
            "469/469 [==============================] - 14s 30ms/step - loss: 0.3836 - accuracy: 0.8850 - val_loss: 0.2382 - val_accuracy: 0.9320\n",
            "Epoch 68/100\n",
            "469/469 [==============================] - ETA: 0s - loss: 0.3817 - accuracy: 0.8862\n",
            "Epoch 00068: val_loss improved from 0.23820 to 0.23657, saving model to weights.h5\n",
            "469/469 [==============================] - 14s 30ms/step - loss: 0.3817 - accuracy: 0.8862 - val_loss: 0.2366 - val_accuracy: 0.9311\n",
            "Epoch 69/100\n",
            "469/469 [==============================] - ETA: 0s - loss: 0.3798 - accuracy: 0.8857\n",
            "Epoch 00069: val_loss improved from 0.23657 to 0.23514, saving model to weights.h5\n",
            "469/469 [==============================] - 14s 30ms/step - loss: 0.3798 - accuracy: 0.8857 - val_loss: 0.2351 - val_accuracy: 0.9315\n",
            "Epoch 70/100\n",
            "469/469 [==============================] - ETA: 0s - loss: 0.3819 - accuracy: 0.8856\n",
            "Epoch 00070: val_loss improved from 0.23514 to 0.23387, saving model to weights.h5\n",
            "469/469 [==============================] - 14s 30ms/step - loss: 0.3819 - accuracy: 0.8856 - val_loss: 0.2339 - val_accuracy: 0.9320\n",
            "Epoch 71/100\n",
            "469/469 [==============================] - ETA: 0s - loss: 0.3783 - accuracy: 0.8884\n",
            "Epoch 00071: val_loss improved from 0.23387 to 0.23218, saving model to weights.h5\n",
            "469/469 [==============================] - 14s 30ms/step - loss: 0.3783 - accuracy: 0.8884 - val_loss: 0.2322 - val_accuracy: 0.9328\n",
            "Epoch 72/100\n",
            "469/469 [==============================] - ETA: 0s - loss: 0.3746 - accuracy: 0.8880\n",
            "Epoch 00072: val_loss improved from 0.23218 to 0.23047, saving model to weights.h5\n",
            "469/469 [==============================] - 14s 30ms/step - loss: 0.3746 - accuracy: 0.8880 - val_loss: 0.2305 - val_accuracy: 0.9334\n",
            "Epoch 73/100\n",
            "469/469 [==============================] - ETA: 0s - loss: 0.3730 - accuracy: 0.8889\n",
            "Epoch 00073: val_loss improved from 0.23047 to 0.22907, saving model to weights.h5\n",
            "469/469 [==============================] - 14s 30ms/step - loss: 0.3730 - accuracy: 0.8889 - val_loss: 0.2291 - val_accuracy: 0.9336\n",
            "Epoch 74/100\n",
            "469/469 [==============================] - ETA: 0s - loss: 0.3735 - accuracy: 0.8892\n",
            "Epoch 00074: val_loss improved from 0.22907 to 0.22784, saving model to weights.h5\n",
            "469/469 [==============================] - 14s 30ms/step - loss: 0.3735 - accuracy: 0.8892 - val_loss: 0.2278 - val_accuracy: 0.9335\n",
            "Epoch 75/100\n",
            "469/469 [==============================] - ETA: 0s - loss: 0.3690 - accuracy: 0.8876\n",
            "Epoch 00075: val_loss improved from 0.22784 to 0.22626, saving model to weights.h5\n",
            "469/469 [==============================] - 14s 30ms/step - loss: 0.3690 - accuracy: 0.8876 - val_loss: 0.2263 - val_accuracy: 0.9340\n",
            "Epoch 76/100\n",
            "469/469 [==============================] - ETA: 0s - loss: 0.3646 - accuracy: 0.8918\n",
            "Epoch 00076: val_loss improved from 0.22626 to 0.22459, saving model to weights.h5\n",
            "469/469 [==============================] - 14s 30ms/step - loss: 0.3646 - accuracy: 0.8918 - val_loss: 0.2246 - val_accuracy: 0.9341\n",
            "Epoch 77/100\n",
            "469/469 [==============================] - ETA: 0s - loss: 0.3646 - accuracy: 0.8910\n",
            "Epoch 00077: val_loss improved from 0.22459 to 0.22328, saving model to weights.h5\n",
            "469/469 [==============================] - 14s 30ms/step - loss: 0.3646 - accuracy: 0.8910 - val_loss: 0.2233 - val_accuracy: 0.9347\n",
            "Epoch 78/100\n",
            "469/469 [==============================] - ETA: 0s - loss: 0.3662 - accuracy: 0.8908\n",
            "Epoch 00078: val_loss improved from 0.22328 to 0.22201, saving model to weights.h5\n",
            "469/469 [==============================] - 15s 32ms/step - loss: 0.3662 - accuracy: 0.8908 - val_loss: 0.2220 - val_accuracy: 0.9350\n",
            "Epoch 79/100\n",
            "469/469 [==============================] - ETA: 0s - loss: 0.3593 - accuracy: 0.8927\n",
            "Epoch 00079: val_loss improved from 0.22201 to 0.22040, saving model to weights.h5\n",
            "469/469 [==============================] - 17s 35ms/step - loss: 0.3593 - accuracy: 0.8927 - val_loss: 0.2204 - val_accuracy: 0.9350\n",
            "Epoch 80/100\n",
            "469/469 [==============================] - ETA: 0s - loss: 0.3592 - accuracy: 0.8930\n",
            "Epoch 00080: val_loss improved from 0.22040 to 0.21932, saving model to weights.h5\n",
            "469/469 [==============================] - 15s 33ms/step - loss: 0.3592 - accuracy: 0.8930 - val_loss: 0.2193 - val_accuracy: 0.9358\n",
            "Epoch 81/100\n",
            "469/469 [==============================] - ETA: 0s - loss: 0.3595 - accuracy: 0.8926\n",
            "Epoch 00081: val_loss improved from 0.21932 to 0.21815, saving model to weights.h5\n",
            "469/469 [==============================] - 15s 32ms/step - loss: 0.3595 - accuracy: 0.8926 - val_loss: 0.2182 - val_accuracy: 0.9362\n",
            "Epoch 82/100\n",
            "469/469 [==============================] - ETA: 0s - loss: 0.3576 - accuracy: 0.8931\n",
            "Epoch 00082: val_loss improved from 0.21815 to 0.21690, saving model to weights.h5\n",
            "469/469 [==============================] - 15s 31ms/step - loss: 0.3576 - accuracy: 0.8931 - val_loss: 0.2169 - val_accuracy: 0.9365\n",
            "Epoch 83/100\n",
            "469/469 [==============================] - ETA: 0s - loss: 0.3543 - accuracy: 0.8939\n",
            "Epoch 00083: val_loss improved from 0.21690 to 0.21570, saving model to weights.h5\n",
            "469/469 [==============================] - 15s 31ms/step - loss: 0.3543 - accuracy: 0.8939 - val_loss: 0.2157 - val_accuracy: 0.9367\n",
            "Epoch 84/100\n",
            "469/469 [==============================] - ETA: 0s - loss: 0.3496 - accuracy: 0.8957\n",
            "Epoch 00084: val_loss improved from 0.21570 to 0.21438, saving model to weights.h5\n",
            "469/469 [==============================] - 15s 31ms/step - loss: 0.3496 - accuracy: 0.8957 - val_loss: 0.2144 - val_accuracy: 0.9368\n",
            "Epoch 85/100\n",
            "469/469 [==============================] - ETA: 0s - loss: 0.3505 - accuracy: 0.8953\n",
            "Epoch 00085: val_loss improved from 0.21438 to 0.21299, saving model to weights.h5\n",
            "469/469 [==============================] - 15s 31ms/step - loss: 0.3505 - accuracy: 0.8953 - val_loss: 0.2130 - val_accuracy: 0.9376\n",
            "Epoch 86/100\n",
            "469/469 [==============================] - ETA: 0s - loss: 0.3486 - accuracy: 0.8961\n",
            "Epoch 00086: val_loss improved from 0.21299 to 0.21176, saving model to weights.h5\n",
            "469/469 [==============================] - 15s 31ms/step - loss: 0.3486 - accuracy: 0.8961 - val_loss: 0.2118 - val_accuracy: 0.9378\n",
            "Epoch 87/100\n",
            "469/469 [==============================] - ETA: 0s - loss: 0.3480 - accuracy: 0.8965\n",
            "Epoch 00087: val_loss improved from 0.21176 to 0.21085, saving model to weights.h5\n",
            "469/469 [==============================] - 15s 31ms/step - loss: 0.3480 - accuracy: 0.8965 - val_loss: 0.2109 - val_accuracy: 0.9385\n",
            "Epoch 88/100\n",
            "469/469 [==============================] - ETA: 0s - loss: 0.3424 - accuracy: 0.8972\n",
            "Epoch 00088: val_loss improved from 0.21085 to 0.20956, saving model to weights.h5\n",
            "469/469 [==============================] - 15s 31ms/step - loss: 0.3424 - accuracy: 0.8972 - val_loss: 0.2096 - val_accuracy: 0.9389\n",
            "Epoch 89/100\n",
            "469/469 [==============================] - ETA: 0s - loss: 0.3448 - accuracy: 0.8982\n",
            "Epoch 00089: val_loss improved from 0.20956 to 0.20848, saving model to weights.h5\n",
            "469/469 [==============================] - 15s 31ms/step - loss: 0.3448 - accuracy: 0.8982 - val_loss: 0.2085 - val_accuracy: 0.9389\n",
            "Epoch 90/100\n",
            "468/469 [============================>.] - ETA: 0s - loss: 0.3437 - accuracy: 0.8969\n",
            "Epoch 00090: val_loss improved from 0.20848 to 0.20738, saving model to weights.h5\n",
            "469/469 [==============================] - 15s 31ms/step - loss: 0.3438 - accuracy: 0.8969 - val_loss: 0.2074 - val_accuracy: 0.9394\n",
            "Epoch 91/100\n",
            "469/469 [==============================] - ETA: 0s - loss: 0.3404 - accuracy: 0.8999\n",
            "Epoch 00091: val_loss improved from 0.20738 to 0.20644, saving model to weights.h5\n",
            "469/469 [==============================] - 15s 31ms/step - loss: 0.3404 - accuracy: 0.8999 - val_loss: 0.2064 - val_accuracy: 0.9397\n",
            "Epoch 92/100\n",
            "469/469 [==============================] - ETA: 0s - loss: 0.3401 - accuracy: 0.8997\n",
            "Epoch 00092: val_loss improved from 0.20644 to 0.20553, saving model to weights.h5\n",
            "469/469 [==============================] - 15s 31ms/step - loss: 0.3401 - accuracy: 0.8997 - val_loss: 0.2055 - val_accuracy: 0.9406\n",
            "Epoch 93/100\n",
            "469/469 [==============================] - ETA: 0s - loss: 0.3400 - accuracy: 0.8980\n",
            "Epoch 00093: val_loss improved from 0.20553 to 0.20461, saving model to weights.h5\n",
            "469/469 [==============================] - 15s 31ms/step - loss: 0.3400 - accuracy: 0.8980 - val_loss: 0.2046 - val_accuracy: 0.9404\n",
            "Epoch 94/100\n",
            "469/469 [==============================] - ETA: 0s - loss: 0.3380 - accuracy: 0.9005\n",
            "Epoch 00094: val_loss improved from 0.20461 to 0.20346, saving model to weights.h5\n",
            "469/469 [==============================] - 15s 31ms/step - loss: 0.3380 - accuracy: 0.9005 - val_loss: 0.2035 - val_accuracy: 0.9407\n",
            "Epoch 95/100\n",
            "469/469 [==============================] - ETA: 0s - loss: 0.3319 - accuracy: 0.9008\n",
            "Epoch 00095: val_loss improved from 0.20346 to 0.20205, saving model to weights.h5\n",
            "469/469 [==============================] - 15s 31ms/step - loss: 0.3319 - accuracy: 0.9008 - val_loss: 0.2021 - val_accuracy: 0.9412\n",
            "Epoch 96/100\n",
            "469/469 [==============================] - ETA: 0s - loss: 0.3325 - accuracy: 0.9006\n",
            "Epoch 00096: val_loss improved from 0.20205 to 0.20103, saving model to weights.h5\n",
            "469/469 [==============================] - 15s 31ms/step - loss: 0.3325 - accuracy: 0.9006 - val_loss: 0.2010 - val_accuracy: 0.9413\n",
            "Epoch 97/100\n",
            "469/469 [==============================] - ETA: 0s - loss: 0.3310 - accuracy: 0.9012\n",
            "Epoch 00097: val_loss improved from 0.20103 to 0.19985, saving model to weights.h5\n",
            "469/469 [==============================] - 14s 30ms/step - loss: 0.3310 - accuracy: 0.9012 - val_loss: 0.1999 - val_accuracy: 0.9416\n",
            "Epoch 98/100\n",
            "469/469 [==============================] - ETA: 0s - loss: 0.3311 - accuracy: 0.9027\n",
            "Epoch 00098: val_loss improved from 0.19985 to 0.19907, saving model to weights.h5\n",
            "469/469 [==============================] - 14s 30ms/step - loss: 0.3311 - accuracy: 0.9027 - val_loss: 0.1991 - val_accuracy: 0.9422\n",
            "Epoch 99/100\n",
            "469/469 [==============================] - ETA: 0s - loss: 0.3258 - accuracy: 0.9033\n",
            "Epoch 00099: val_loss improved from 0.19907 to 0.19804, saving model to weights.h5\n",
            "469/469 [==============================] - 14s 29ms/step - loss: 0.3258 - accuracy: 0.9033 - val_loss: 0.1980 - val_accuracy: 0.9425\n",
            "Epoch 100/100\n",
            "467/469 [============================>.] - ETA: 0s - loss: 0.3298 - accuracy: 0.9020\n",
            "Epoch 00100: val_loss improved from 0.19804 to 0.19748, saving model to weights.h5\n",
            "469/469 [==============================] - 14s 29ms/step - loss: 0.3302 - accuracy: 0.9020 - val_loss: 0.1975 - val_accuracy: 0.9426\n"
          ],
          "name": "stdout"
        }
      ]
    },
    {
      "cell_type": "code",
      "metadata": {
        "id": "AkFV_b6KgxsL",
        "colab_type": "code",
        "colab": {
          "base_uri": "https://localhost:8080/",
          "height": 543
        },
        "outputId": "d4a332cb-e705-49be-8f29-8158f264be79"
      },
      "source": [
        "#avaliacao da acuria de treiano e teste\n",
        "plt.plot(hist.history['accuracy'])\n",
        "plt.plot(hist.history['val_accuracy'])\n",
        "plt.ylabel('acurácia')\n",
        "plt.xlabel('época')\n",
        "plt.legend(['treino', 'validação'], loc = 'upper left')\n",
        "plt.show()\n",
        "\n",
        "plt.plot(hist.history['loss'])\n",
        "plt.plot(hist.history['val_loss'])\n",
        "plt.ylabel('loss')\n",
        "plt.xlabel('época')\n",
        "plt.legend(['treino', 'validação'], loc = 'upper left')\n",
        "plt.show()"
      ],
      "execution_count": 32,
      "outputs": [
        {
          "output_type": "display_data",
          "data": {
            "image/png": "[encoded data removed]",
            "text/plain": [
              "<Figure size 432x288 with 1 Axes>"
            ]
          },
          "metadata": {
            "tags": [],
            "needs_background": "light"
          }
        },
        {
          "output_type": "display_data",
          "data": {
            "image/png": "[encoded data removed]",
            "text/plain": [
              "<Figure size 432x288 with 1 Axes>"
            ]
          },
          "metadata": {
            "tags": [],
            "needs_background": "light"
          }
        }
      ]
    },
    {
      "cell_type": "code",
      "metadata": {
        "id": "moXcbrJaxpiH",
        "colab_type": "code",
        "outputId": "3ecf5d61-7219-4f2d-bc30-75d11f78a403",
        "colab": {
          "base_uri": "https://localhost:8080/",
          "height": 52
        }
      },
      "source": [
        "score = model.evaluate(x_test, y_test, verbose=0)\n",
        "print('Loss em Teste:', score[0])\n",
        "print('Acurácia em Teste:', score[1])"
      ],
      "execution_count": 33,
      "outputs": [
        {
          "output_type": "stream",
          "text": [
            "Loss em Teste: 0.1986618936061859\n",
            "Acurácia em Teste: 0.9426000118255615\n"
          ],
          "name": "stdout"
        }
      ]
    },
    {
      "cell_type": "code",
      "metadata": {
        "id": "gPhdF1YlxsCU",
        "colab_type": "code",
        "colab": {}
      },
      "source": [
        "#salvando a estrutura da rede neural\n",
        "model_json = model.to_json()\n",
        "with open(\"model.json\", \"w\") as json_file:\n",
        "    json_file.write(model_json)"
      ],
      "execution_count": 0,
      "outputs": []
    },
    {
      "cell_type": "code",
      "metadata": {
        "id": "OIbWbSDDxt4S",
        "colab_type": "code",
        "colab": {}
      },
      "source": [
        "#salvando os pesos aprendidos pela rede neural\n",
        "model.save_weights(\"model.h5\")"
      ],
      "execution_count": 0,
      "outputs": []
    },
    {
      "cell_type": "code",
      "metadata": {
        "id": "i1knZMbWATC9",
        "colab_type": "code",
        "colab": {}
      },
      "source": [
        ""
      ],
      "execution_count": 0,
      "outputs": []
    }
  ]
}